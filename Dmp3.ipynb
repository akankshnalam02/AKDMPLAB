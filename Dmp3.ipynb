{
 "cells": [
  {
   "cell_type": "code",
   "execution_count": 1,
   "id": "33602cd3",
   "metadata": {},
   "outputs": [
    {
     "name": "stdout",
     "output_type": "stream",
     "text": [
      "Pearson's Correlation: 0.7407437469876467\n"
     ]
    }
   ],
   "source": [
    "# 1) Pearson's Correlation\n",
    "import pandas as pd\n",
    "import numpy as np\n",
    "from scipy.stats import pearsonr\n",
    "\n",
    "# Sample vectors\n",
    "x = np.array([1, 2, 3, 4, 5])\n",
    "y = np.array([1, 4, 8, 7, 6])\n",
    "# Pearson's Correlation\n",
    "pearson_corr, _ = pearsonr(x, y)\n",
    "print(\"Pearson's Correlation:\", pearson_corr)"
   ]
  },
  {
   "cell_type": "code",
   "execution_count": 2,
   "id": "9b07846e",
   "metadata": {},
   "outputs": [
    {
     "name": "stdout",
     "output_type": "stream",
     "text": [
      "A: [2 1 2 3 2 9]\n",
      "B: [3 4 2 4 5 5]\n",
      "Cosine Similarity: 0.8188504723485274\n"
     ]
    }
   ],
   "source": [
    "# 2) Cosine Similarity\n",
    "import numpy as np\n",
    "from numpy.linalg import norm\n",
    "\n",
    "# define two lists or array\n",
    "A = np.array([2,1,2,3,2,9])\n",
    "B = np.array([3,4,2,4,5,5])\n",
    "\n",
    "print(\"A:\", A)\n",
    "print(\"B:\", B)\n",
    "\n",
    "# compute cosine similarity\n",
    "cosine = np.dot(A,B)/(norm(A)*norm(B))\n",
    "print(\"Cosine Similarity:\", cosine)"
   ]
  },
  {
   "cell_type": "code",
   "execution_count": 3,
   "id": "003d496d",
   "metadata": {},
   "outputs": [
    {
     "name": "stdout",
     "output_type": "stream",
     "text": [
      "A intersection B =  {1, 2}\n",
      "A union B =  {1, 2, 3, 4, 5, 6, 8, 9}\n",
      "---------------------\n",
      "J(A,B) =  0.25\n"
     ]
    }
   ],
   "source": [
    "# 3) Jaccard Similarity\n",
    "\n",
    "A = {1,2,3,4,6}\n",
    "B = {1,2,5,8,9}\n",
    "C = A.intersection(B)\n",
    "D = A.union(B)\n",
    "print('A intersection B = ', C)\n",
    "print('A union B = ', D)\n",
    "print('---------------------')\n",
    "print('J(A,B) = ', float(len(C))/float(len(D)))"
   ]
  },
  {
   "cell_type": "code",
   "execution_count": 4,
   "id": "41611238",
   "metadata": {},
   "outputs": [
    {
     "name": "stdout",
     "output_type": "stream",
     "text": [
      "Euclidean Distance: 2.8284271247461903\n"
     ]
    }
   ],
   "source": [
    "# 4) Euclidean Distance\n",
    "import numpy as np\n",
    "from numpy.linalg import norm\n",
    "from scipy.spatial.distance import euclidean, cityblock\n",
    "\n",
    "x = np.array((4, 7))\n",
    "y = np.array((6, 9))\n",
    "\n",
    "euclidean_dist = euclidean(x, y)\n",
    "print(\"Euclidean Distance:\", euclidean_dist)\n"
   ]
  },
  {
   "cell_type": "code",
   "execution_count": 5,
   "id": "c6a9718d",
   "metadata": {},
   "outputs": [
    {
     "name": "stdout",
     "output_type": "stream",
     "text": [
      "Manhattan Distance: 4\n"
     ]
    }
   ],
   "source": [
    "# 5) Manhattan Distance\n",
    "import numpy as np\n",
    "from numpy.linalg import norm\n",
    "from scipy.spatial.distance import euclidean, cityblock\n",
    "\n",
    "x = np.array((4, 7))\n",
    "y = np.array((6, 9))\n",
    "manhattan_dist = cityblock(x, y)\n",
    "print(\"Manhattan Distance:\", manhattan_dist)"
   ]
  }
 ],
 "metadata": {
  "kernelspec": {
   "display_name": "Python 3 (ipykernel)",
   "language": "python",
   "name": "python3"
  },
  "language_info": {
   "codemirror_mode": {
    "name": "ipython",
    "version": 3
   },
   "file_extension": ".py",
   "mimetype": "text/x-python",
   "name": "python",
   "nbconvert_exporter": "python",
   "pygments_lexer": "ipython3",
   "version": "3.11.5"
  }
 },
 "nbformat": 4,
 "nbformat_minor": 5
}
